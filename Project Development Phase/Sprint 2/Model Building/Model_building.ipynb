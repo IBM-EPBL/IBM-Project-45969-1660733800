{
 "cells": [
  {
   "cell_type": "markdown",
   "id": "da3aa8d4",
   "metadata": {},
   "source": [
    "# MODEL BUILDING"
   ]
  },
  {
   "cell_type": "markdown",
   "id": "03a53302",
   "metadata": {},
   "source": [
    "# TRAIN AND TEST THE DATA"
   ]
  },
  {
   "cell_type": "code",
   "execution_count": 1,
   "id": "8f1c720a",
   "metadata": {},
   "outputs": [],
   "source": [
    "from keras.preprocessing.image import ImageDataGenerator\n",
    "train_datagen=ImageDataGenerator(rescale = 1./255, shear_range=0.2, zoom_range=0.2,horizontal_flip=True)\n",
    "test_datagen = ImageDataGenerator(rescale=1./255)"
   ]
  },
  {
   "cell_type": "code",
   "execution_count": 2,
   "id": "3ba54610",
   "metadata": {},
   "outputs": [
    {
     "name": "stdout",
     "output_type": "stream",
     "text": [
      "Found 15750 images belonging to 9 classes.\n"
     ]
    }
   ],
   "source": [
    "x_train = train_datagen.flow_from_directory(r'C:\\Users\\balag\\OneDrive\\Desktop\\Nalaiya Thiran\\Project Development Phase\\Sprint 1\\Dataset\\conversation engine for deaf and dumb\\Dataset\\training_set', target_size=(64,64), batch_size=300,\n",
    "                                          class_mode='categorical', color_mode = \"grayscale\")"
   ]
  },
  {
   "cell_type": "code",
   "execution_count": 4,
   "id": "1b07d08a",
   "metadata": {},
   "outputs": [
    {
     "name": "stdout",
     "output_type": "stream",
     "text": [
      "Found 2250 images belonging to 9 classes.\n"
     ]
    }
   ],
   "source": [
    "x_test = test_datagen.flow_from_directory(r'C:\\Users\\balag\\OneDrive\\Desktop\\Nalaiya Thiran\\Project Development Phase\\Sprint 1\\Dataset\\conversation engine for deaf and dumb\\Dataset\\test_set',target_size=(64,64), batch_size=300,\n",
    "                                          class_mode='categorical', color_mode = \"grayscale\")"
   ]
  },
  {
   "cell_type": "markdown",
   "id": "80d7a3b2",
   "metadata": {},
   "source": [
    "# MODEL BUILDING"
   ]
  },
  {
   "cell_type": "code",
   "execution_count": 5,
   "id": "320cd67e",
   "metadata": {},
   "outputs": [],
   "source": [
    "from keras.models import Sequential\n",
    "from keras.layers import Dense\n",
    "from keras.layers import Convolution2D\n",
    "from tensorflow.keras.layers import Conv2D, MaxPooling2D\n",
    "from keras.layers import Dropout\n",
    "from keras.layers import Flatten"
   ]
  },
  {
   "cell_type": "code",
   "execution_count": 6,
   "id": "a2bc0678",
   "metadata": {},
   "outputs": [],
   "source": [
    "model=Sequential()"
   ]
  },
  {
   "cell_type": "code",
   "execution_count": 7,
   "id": "6aef514a",
   "metadata": {},
   "outputs": [],
   "source": [
    "model.add(Convolution2D(32,(3,3), input_shape=(64,64,1), activation = 'relu'))"
   ]
  },
  {
   "cell_type": "code",
   "execution_count": 8,
   "id": "238151bc",
   "metadata": {},
   "outputs": [],
   "source": [
    "model.add(MaxPooling2D(pool_size=(2,2)))"
   ]
  },
  {
   "cell_type": "code",
   "execution_count": 9,
   "id": "7057b0e4",
   "metadata": {},
   "outputs": [],
   "source": [
    "model.add(Flatten())"
   ]
  },
  {
   "cell_type": "code",
   "execution_count": 10,
   "id": "abcf2163",
   "metadata": {},
   "outputs": [],
   "source": [
    "model.add(Dense( units=512, activation='relu'))"
   ]
  },
  {
   "cell_type": "code",
   "execution_count": 11,
   "id": "c6924e99",
   "metadata": {},
   "outputs": [],
   "source": [
    "model.add(Dense(units=9, activation='softmax'))"
   ]
  },
  {
   "cell_type": "code",
   "execution_count": 12,
   "id": "a85f87a4",
   "metadata": {},
   "outputs": [],
   "source": [
    "model.compile(loss='categorical_crossentropy', optimizer='adam', metrics=['accuracy'])"
   ]
  },
  {
   "cell_type": "code",
   "execution_count": 13,
   "id": "c315cd71",
   "metadata": {},
   "outputs": [
    {
     "name": "stderr",
     "output_type": "stream",
     "text": [
      "C:\\Users\\balag\\AppData\\Local\\Temp\\ipykernel_11620\\3523359466.py:1: UserWarning: `Model.fit_generator` is deprecated and will be removed in a future version. Please use `Model.fit`, which supports generators.\n",
      "  model.fit_generator(x_train, steps_per_epoch=24, epochs=10, validation_data=x_test,validation_steps=40)\n"
     ]
    },
    {
     "name": "stdout",
     "output_type": "stream",
     "text": [
      "Epoch 1/10\n",
      "24/24 [==============================] - ETA: 0s - loss: 1.6423 - accuracy: 0.6074WARNING:tensorflow:Your input ran out of data; interrupting training. Make sure that your dataset or generator can generate at least `steps_per_epoch * epochs` batches (in this case, 40 batches). You may need to use the repeat() function when building your dataset.\n",
      "24/24 [==============================] - 137s 6s/step - loss: 1.6423 - accuracy: 0.6074 - val_loss: 0.5373 - val_accuracy: 0.9013\n",
      "Epoch 2/10\n",
      "24/24 [==============================] - 60s 2s/step - loss: 0.3701 - accuracy: 0.8997\n",
      "Epoch 3/10\n",
      "24/24 [==============================] - 38s 2s/step - loss: 0.1975 - accuracy: 0.9487\n",
      "Epoch 4/10\n",
      "24/24 [==============================] - 28s 1s/step - loss: 0.1181 - accuracy: 0.9702\n",
      "Epoch 5/10\n",
      "24/24 [==============================] - 24s 981ms/step - loss: 0.0838 - accuracy: 0.9806\n",
      "Epoch 6/10\n",
      "24/24 [==============================] - 19s 805ms/step - loss: 0.0613 - accuracy: 0.9851\n",
      "Epoch 7/10\n",
      "24/24 [==============================] - 19s 771ms/step - loss: 0.0446 - accuracy: 0.9900\n",
      "Epoch 8/10\n",
      "24/24 [==============================] - 17s 724ms/step - loss: 0.0325 - accuracy: 0.9930\n",
      "Epoch 9/10\n",
      "24/24 [==============================] - 17s 700ms/step - loss: 0.0294 - accuracy: 0.9942\n",
      "Epoch 10/10\n",
      "24/24 [==============================] - 17s 691ms/step - loss: 0.0234 - accuracy: 0.9953\n"
     ]
    },
    {
     "data": {
      "text/plain": [
       "<keras.callbacks.History at 0x1b2fe957700>"
      ]
     },
     "execution_count": 13,
     "metadata": {},
     "output_type": "execute_result"
    }
   ],
   "source": [
    "model.fit_generator(x_train, steps_per_epoch=24, epochs=10, validation_data=x_test,validation_steps=40)"
   ]
  },
  {
   "cell_type": "code",
   "execution_count": 14,
   "id": "8d901577",
   "metadata": {},
   "outputs": [],
   "source": [
    "model.save('RSL.h5')"
   ]
  },
  {
   "cell_type": "code",
   "execution_count": null,
   "id": "ac123c70",
   "metadata": {},
   "outputs": [],
   "source": []
  }
 ],
 "metadata": {
  "kernelspec": {
   "display_name": "Python 3 (ipykernel)",
   "language": "python",
   "name": "python3"
  },
  "language_info": {
   "codemirror_mode": {
    "name": "ipython",
    "version": 3
   },
   "file_extension": ".py",
   "mimetype": "text/x-python",
   "name": "python",
   "nbconvert_exporter": "python",
   "pygments_lexer": "ipython3",
   "version": "3.9.12"
  }
 },
 "nbformat": 4,
 "nbformat_minor": 5
}
